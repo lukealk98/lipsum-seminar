{
 "cells": [
  {
   "cell_type": "markdown",
   "metadata": {
    "slideshow": {
     "slide_type": "slide"
    }
   },
   "source": [
    "# Web Data Crawling\n",
    "2017.07.28 @ Lorem Ipsum\n",
    "## Seungwon Park\n",
    "yyyyy (at) snu.ac.kr"
   ]
  },
  {
   "cell_type": "markdown",
   "metadata": {
    "slideshow": {
     "slide_type": "slide"
    }
   },
   "source": [
    "### Types of good datasets\n",
    "- Format : `JSON`, `CSV`, ...\n",
    "- Well-documented / Straightforward directory structure and API\n",
    "- [CERN Open Data Portal](http://opendata.cern.ch/) : [ROOT](https://root.cern.ch/) framework\n",
    "- [Sloan Digital Sky Survey (SDSS)](http://www.sdss.org/)\n"
   ]
  },
  {
   "cell_type": "markdown",
   "metadata": {
    "slideshow": {
     "slide_type": "slide"
    }
   },
   "source": [
    "### Types of non-organized data\n",
    "- No API. GUI-based service.\n",
    "- [Lottery winning numbers](http://nlotto.co.kr/gameResult.do?method=byWin)\n",
    "- Misc. data from websites : [Notices](physics.snu.ac.kr/xe/underbbs), [Lecture info](http://sugang.snu.ac.kr), ...\n",
    "- **Today, we shall study about crawling these.**"
   ]
  },
  {
   "cell_type": "markdown",
   "metadata": {
    "slideshow": {
     "slide_type": "slide"
    }
   },
   "source": [
    "# Today's Aim\n",
    "1. Implement a part of [norazo-lotto](http://swpark.ddns.net/norazo-lotto)'s backend:\n",
    "  - `urllib` (Python) + cronjob (Linux) ( + PHP frontend)\n",
    "1. Brief intro to Regex, `BeautifulSoup`.\n",
    "1. Solve some problems related to web data crawling on [Baekjoon Online Judge(BOJ)](https://acmicpc.net)"
   ]
  },
  {
   "cell_type": "markdown",
   "metadata": {
    "slideshow": {
     "slide_type": "slide"
    }
   },
   "source": [
    "### Some HTML tags\n",
    "- First, let's have a look at some HTML tags.\n",
    "    - `<a href=\"http://example.com\">Example</a>`\n",
    "    - `<img src=\"../images/001.jpg\">`\n",
    "- Use 'View source' or 'Inspect' on your browser!\n",
    "- Ctrl + F : (perhaps) the fastest way for learning HTML"
   ]
  },
  {
   "cell_type": "markdown",
   "metadata": {
    "slideshow": {
     "slide_type": "slide"
    }
   },
   "source": [
    "### Step 0. Find appropriate URL\n",
    "- Some checklists:\n",
    "  - Are there no API? Really?\n",
    "  - `robots.txt` / Ethical issues?\n",
    "  - Does this page contains all the data you need?\n",
    "  - Aren't there a smaller frame / page?\n",
    "  - (Is this server stable/reachable enough?)"
   ]
  },
  {
   "cell_type": "markdown",
   "metadata": {
    "slideshow": {
     "slide_type": "slide"
    }
   },
   "source": [
    "### Step 1. Get HTML code from URL\n",
    "Here, we can use `urllib` or `requests`."
   ]
  },
  {
   "cell_type": "code",
   "execution_count": 1,
   "metadata": {
    "collapsed": true,
    "slideshow": {
     "slide_type": "fragment"
    }
   },
   "outputs": [],
   "source": [
    "import urllib.request\n",
    "url = 'http://nlotto.co.kr/gameResult.do?method=byWin'\n",
    "with urllib.request.urlopen(url) as response:\n",
    "    html = str(response.read(), 'euc-kr')"
   ]
  },
  {
   "cell_type": "code",
   "execution_count": 2,
   "metadata": {
    "collapsed": true,
    "slideshow": {
     "slide_type": "fragment"
    }
   },
   "outputs": [],
   "source": [
    "import requests\n",
    "req = requests.get('http://nlotto.co.kr/gameResult.do?method=byWin')\n",
    "html = req.text"
   ]
  },
  {
   "cell_type": "markdown",
   "metadata": {
    "slideshow": {
     "slide_type": "slide"
    }
   },
   "source": [
    "### Step 2. Extract data from HTML\n",
    "- First, find [where](http://nlotto.co.kr/gameResult.do?method=byWin) our data can be found.\n",
    "\n",
    "```html\n",
    "<meta id=\"desc\" name=\"description\" content=\"나눔로또 763회 당첨번호 3,8,16,32,34,43+10. 1등 총 8명, 1인당 당첨금액 2,138,130,000원.\" />\n",
    "...\n",
    "<span>(2017년 07월 15일 추첨)</span>\n",
    "```\n",
    "\n",
    "- We will take a look at 3 possible solutions - `split()`, RegEx, BeautifulSoup."
   ]
  },
  {
   "cell_type": "markdown",
   "metadata": {
    "slideshow": {
     "slide_type": "slide"
    }
   },
   "source": [
    "### 2-1. Using `split()`"
   ]
  },
  {
   "cell_type": "code",
   "execution_count": 3,
   "metadata": {
    "slideshow": {
     "slide_type": "fragment"
    }
   },
   "outputs": [
    {
     "name": "stdout",
     "output_type": "stream",
     "text": [
      "['Lorem', 'Ipsum', 'Dolor', 'Sit']\n"
     ]
    }
   ],
   "source": [
    "a = 'Lorem Ipsum Dolor Sit'\n",
    "b = a.split()\n",
    "print(b)"
   ]
  },
  {
   "cell_type": "code",
   "execution_count": 4,
   "metadata": {
    "slideshow": {
     "slide_type": "fragment"
    }
   },
   "outputs": [
    {
     "name": "stdout",
     "output_type": "stream",
     "text": [
      "['Alice', 'Bob', '', 'David']\n"
     ]
    }
   ],
   "source": [
    "a = 'Alice,Bob,,David'\n",
    "b = a.split(',')\n",
    "print(b)"
   ]
  },
  {
   "cell_type": "code",
   "execution_count": 5,
   "metadata": {
    "collapsed": true,
    "slideshow": {
     "slide_type": "slide"
    }
   },
   "outputs": [],
   "source": [
    "html_date = html.split('<img src=\"/img/contents/result/wininfo/txt_lotto_num02.gif\"  alt=\"제\" />')[1]\n",
    "html_date = html_date.split('일 추첨)')[0]\n",
    "html_date = html_date.split('<span>(')[1]\n",
    "html_win = html.split('<meta id=\"desc\" name=\"description\" content=\"나눔로또 ')[1]\n",
    "html_win = html_win.split('.')[0]"
   ]
  },
  {
   "cell_type": "markdown",
   "metadata": {
    "slideshow": {
     "slide_type": "fragment"
    }
   },
   "source": [
    "### 2-2. Using Regular Expression\n",
    "- Easier, shorter coding.\n",
    "- Same syntax across languages"
   ]
  },
  {
   "cell_type": "code",
   "execution_count": 6,
   "metadata": {
    "collapsed": true,
    "slideshow": {
     "slide_type": "fragment"
    }
   },
   "outputs": [],
   "source": [
    "import re\n",
    "html_date = re.findall(r'\\((.*)일 추첨\\)\\</span\\>\\</h3\\>', html)[0]\n",
    "html_win = re.findall(r'\\<meta id\\=\"desc\" name\\=\"description\" content\\=\"나눔로또 (.*). 1등 총', html)[0]"
   ]
  },
  {
   "cell_type": "code",
   "execution_count": 7,
   "metadata": {
    "collapsed": true,
    "slideshow": {
     "slide_type": "slide"
    }
   },
   "outputs": [],
   "source": [
    "import re\n",
    "\n",
    "# <span>(2017년 07월 15일 추첨)</span></h3>\n",
    "html_date = re.findall(r'\\((.*)일 추첨\\)\\</span\\>\\</h3\\>', html)[0]\n",
    "html_date = html_date.replace('년 ','-')\n",
    "html_date = html_date.replace('월 ','-')\n",
    "\n",
    "# <meta id=\"desc\" name=\"description\" content=\"나눔로또 763회 당첨번호 3,8,16,32,34,43+10. 1등 총 8명, 1인당 당첨금액 2,138,130,000원.\" />\n",
    "html_win = re.findall(r'\\<meta id\\=\"desc\" name\\=\"description\" content\\=\"나눔로또 (.*). 1등 총', html)[0]\n",
    "num = html_win.split('당첨번호 ')[1].replace('+',',').split(',')\n",
    "lottoNo = int(html_win.split('회')[0])"
   ]
  },
  {
   "cell_type": "markdown",
   "metadata": {
    "slideshow": {
     "slide_type": "fragment"
    }
   },
   "source": [
    "Now, let's check whether the data is crawled correctly."
   ]
  },
  {
   "cell_type": "code",
   "execution_count": 8,
   "metadata": {
    "slideshow": {
     "slide_type": "fragment"
    }
   },
   "outputs": [
    {
     "name": "stdout",
     "output_type": "stream",
     "text": [
      "Parsed 764 : 2017-07-22   7, 22, 24, 31, 34, 36, 15\n"
     ]
    }
   ],
   "source": [
    "print('Parsed %d : %s %s' % (lottoNo, html_date, ','.join([str(x).rjust(3) for x in num])))"
   ]
  },
  {
   "cell_type": "markdown",
   "metadata": {
    "slideshow": {
     "slide_type": "slide"
    }
   },
   "source": [
    "### Using BeautifulSoup\n",
    "- BeautifulSoup : Python library for pulling data out of HTML and XML files\n",
    "- `pip install beautifulsoup4`\n",
    "\n",
    "#### CSS Selection\n",
    "- In Google Chrome:\n",
    "  - 'Inspect' - (Click the desired part) - 'Copy' - 'Copy Selector'\n",
    "  - This will look like `#desc` or `body > h3 > a`.\n",
    "- https://www.w3schools.com/cssref/css_selectors.asp"
   ]
  },
  {
   "cell_type": "code",
   "execution_count": 9,
   "metadata": {
    "collapsed": true,
    "slideshow": {
     "slide_type": "slide"
    }
   },
   "outputs": [],
   "source": [
    "from bs4 import BeautifulSoup\n",
    "soup = BeautifulSoup(html, 'html.parser')"
   ]
  },
  {
   "cell_type": "code",
   "execution_count": 10,
   "metadata": {
    "slideshow": {
     "slide_type": "fragment"
    }
   },
   "outputs": [
    {
     "name": "stdout",
     "output_type": "stream",
     "text": [
      "[<meta content=\"나눔로또 764회 당첨번호 7,22,24,31,34,36+15. 1등 총 7명, 1인당 당첨금액 2,459,975,465원.\" id=\"desc\" name=\"description\"/>]\n",
      "[<span>(2017년 07월 22일 추첨)</span>]\n"
     ]
    }
   ],
   "source": [
    "print(soup.select('#desc'))\n",
    "print(soup.select('body > section > article > article > div > div.lotto_win_number.mt12 > h3 > span'))"
   ]
  },
  {
   "cell_type": "markdown",
   "metadata": {
    "slideshow": {
     "slide_type": "slide"
    }
   },
   "source": [
    "### Cronjobs\n",
    "\n",
    "To fully automate the work, we'll use cronjobs.\n",
    "```bash\n",
    "crontab -e\n",
    "* * * * * update.sh\n",
    "# min(0-59), hour(0-23), day of month(1-31), month(1-12), day of week(0-6, Sunday=0)\n",
    "```\n",
    "- Don't forget to set the permission of file!\n",
    "```bash\n",
    "chmod 755 update.sh\n",
    "```"
   ]
  },
  {
   "cell_type": "markdown",
   "metadata": {
    "slideshow": {
     "slide_type": "slide"
    }
   },
   "source": [
    "### Full demonstration\n",
    "- Uses PHP Frontend.\n",
    "- Refer to [`index.php`](https://github.com/seungwonpark/norazo-lotto/blob/master/index.php) at [seungwonpark/norazo-lotto](https://github.com/seungwonpark/norazo-lotto).\n",
    "- Tip : To run PHP code locally, use [MAMP](https://www.mamp.info/).\n",
    "\n",
    "<center><img src=\"images/norazo-lotto-screenshot.png\" width=\"500\"></center>"
   ]
  },
  {
   "cell_type": "markdown",
   "metadata": {
    "slideshow": {
     "slide_type": "slide"
    }
   },
   "source": [
    "## Practice\n",
    "Solve Pokemon-related problems :\n",
    "- [포켓몬 마스터 @ BOJ(9987)](https://www.acmicpc.net/problem/9987)\n",
    "- [포켓몬 GO 진화 @ BOJ(12092)](https://www.acmicpc.net/problem/12092)\n",
    "- [HM과 TM @ BOJ(9995)](https://www.acmicpc.net/problem/9995)"
   ]
  },
  {
   "cell_type": "markdown",
   "metadata": {
    "slideshow": {
     "slide_type": "slide"
    }
   },
   "source": [
    "## My related projects @ GitHub\n",
    "All of the following lists are publicized at [GitHub](https://github.com/seungwonpark).\n",
    "- [노라조 로또 성적표](https://github.com/seungwonpark/norazo-lotto)\n",
    "- [서울대 물천 게시판 RSS](https://github.com/seungwonpark/SNU_physics_board_rss)\n",
    "- [태양 흑점 분석을 위한 이미지 다운로더](https://github.com/seungwonpark/SunSpotTracker)\n",
    "- [위성사진 다운로더](https://github.com/seungwonpark/kosc_file_downloader)\n",
    "- [경기과학고 겹강러 확인 매크로](https://github.com/seungwonpark/lecture)\n",
    "- [SDSS 데이터로 H-R도 그리기](https://github.com/seungwonpark/HR-Diagram)"
   ]
  },
  {
   "cell_type": "markdown",
   "metadata": {
    "slideshow": {
     "slide_type": "slide"
    }
   },
   "source": [
    "## References / Further Reading\n",
    "- https://beomi.github.io/2017/01/20/HowToMakeWebCrawler/\n",
    "- https://scotch.io/tutorials/an-introduction-to-regex-in-python\n",
    "- Web Scraping with Python(Ryan Mitchell)\n",
    "- Web Scraping with Python(Richard Lawson)\n",
    "- lxml, scrapy\n",
    "- https://scrapinghub.com/portia"
   ]
  }
 ],
 "metadata": {
  "anaconda-cloud": {},
  "celltoolbar": "Slideshow",
  "kernelspec": {
   "display_name": "Python [default]",
   "language": "python",
   "name": "python3"
  },
  "language_info": {
   "codemirror_mode": {
    "name": "ipython",
    "version": 3
   },
   "file_extension": ".py",
   "mimetype": "text/x-python",
   "name": "python",
   "nbconvert_exporter": "python",
   "pygments_lexer": "ipython3",
   "version": "3.5.2"
  }
 },
 "nbformat": 4,
 "nbformat_minor": 1
}
